{
 "cells": [
  {
   "cell_type": "code",
   "execution_count": 1,
   "metadata": {},
   "outputs": [],
   "source": [
    "from stock import (\n",
    "    fetch_spotify_stock_data,\n",
    "    create_training_set_from_stock_data,\n",
    "    build_model,\n",
    ")"
   ]
  },
  {
   "cell_type": "code",
   "execution_count": 2,
   "metadata": {},
   "outputs": [
    {
     "name": "stdout",
     "output_type": "stream",
     "text": [
      "Reading data from $data/spot.csv\n",
      "tensor([1.6590e+02, 1.6900e+02, 1.4826e+02, 1.4901e+02, 3.0526e+07],\n",
      "       dtype=torch.float64)\n",
      "tensor(0., dtype=torch.float64)\n",
      "5\n"
     ]
    }
   ],
   "source": [
    "spotify_df = fetch_spotify_stock_data()\n",
    "training_data, validation_data = create_training_set_from_stock_data(spotify_df)\n",
    "\n",
    "ds_size = list(training_data[0][\"inputs\"].size())\n",
    "print(training_data[0][\"inputs\"])\n",
    "print(training_data[0][\"label\"])\n",
    "print(ds_size[0])"
   ]
  },
  {
   "cell_type": "code",
   "execution_count": 3,
   "metadata": {},
   "outputs": [
    {
     "name": "stderr",
     "output_type": "stream",
     "text": [
      "/Users/calvin/.pyenv/versions/3.12.1/envs/ml/lib/python3.12/site-packages/tqdm/auto.py:21: TqdmWarning: IProgress not found. Please update jupyter and ipywidgets. See https://ipywidgets.readthedocs.io/en/stable/user_install.html\n",
      "  from .autonotebook import tqdm as notebook_tqdm\n"
     ]
    }
   ],
   "source": [
    "import torch\n",
    "\n",
    "model = build_model(list(training_data[0][\"inputs\"].size())[-1])\n",
    "\n",
    "loss_fn = torch.nn.BCELoss()\n",
    "optimizer = torch.optim.AdamW(model.parameters(), lr=0.001)"
   ]
  },
  {
   "cell_type": "code",
   "execution_count": 10,
   "metadata": {},
   "outputs": [
    {
     "name": "stdout",
     "output_type": "stream",
     "text": [
      "tensor([0.5361], dtype=torch.float64, grad_fn=<SigmoidBackward0>) tensor([1.], dtype=torch.float64)\n"
     ]
    }
   ],
   "source": [
    "index = 2\n",
    "\n",
    "y_preds = model(training_data[index][\"inputs\"])\n",
    "\n",
    "target = training_data[index][\"label\"].unsqueeze(-1)\n",
    "y_preds = y_preds\n",
    "print(y_preds, target)\n",
    "\n",
    "loss = loss_fn(y_preds, target)"
   ]
  }
 ],
 "metadata": {
  "kernelspec": {
   "display_name": "ml",
   "language": "python",
   "name": "python3"
  },
  "language_info": {
   "codemirror_mode": {
    "name": "ipython",
    "version": 3
   },
   "file_extension": ".py",
   "mimetype": "text/x-python",
   "name": "python",
   "nbconvert_exporter": "python",
   "pygments_lexer": "ipython3",
   "version": "3.12.1"
  }
 },
 "nbformat": 4,
 "nbformat_minor": 2
}
