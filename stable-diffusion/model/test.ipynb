{
 "cells": [
  {
   "cell_type": "code",
   "execution_count": 1,
   "metadata": {},
   "outputs": [
    {
     "name": "stderr",
     "output_type": "stream",
     "text": [
      "/Users/calvin/.pyenv/versions/3.12.1/envs/ml/lib/python3.12/site-packages/tqdm/auto.py:21: TqdmWarning: IProgress not found. Please update jupyter and ipywidgets. See https://ipywidgets.readthedocs.io/en/stable/user_install.html\n",
      "  from .autonotebook import tqdm as notebook_tqdm\n"
     ]
    }
   ],
   "source": [
    "import torch\n",
    "\n",
    "model_file = \"../data/v1-5-pruned-emaonly.ckpt\"\n",
    "\n",
    "original_model = torch.load(model_file, map_location=\"cpu\", weights_only = False)[\"state_dict\"]"
   ]
  },
  {
   "cell_type": "code",
   "execution_count": 8,
   "metadata": {},
   "outputs": [
    {
     "name": "stdout",
     "output_type": "stream",
     "text": [
      "tensor([[-0.0012,  0.0368,  0.0221,  ...,  0.0158,  0.0046, -0.0219],\n",
      "        [ 0.0152,  0.0262, -0.0132,  ..., -0.0037,  0.0002,  0.0121],\n",
      "        [-0.0154, -0.0131,  0.0065,  ..., -0.0206, -0.0139, -0.0025],\n",
      "        ...,\n",
      "        [ 0.0102, -0.0030, -0.0150,  ..., -0.0084, -0.0206,  0.0114],\n",
      "        [ 0.0011,  0.0032,  0.0003,  ..., -0.0018,  0.0003,  0.0019],\n",
      "        [ 0.0012,  0.0077, -0.0011,  ..., -0.0015,  0.0009,  0.0052]])\n"
     ]
    }
   ],
   "source": [
    "# print(original_model['cond_stage_model.transformer.text_model.encoder.layers.0.self_attn.output_projection.weight'])\n",
    "print(original_model['cond_stage_model.transformer.text_model.embeddings.token_embedding.weight'])"
   ]
  },
  {
   "cell_type": "code",
   "execution_count": 1,
   "metadata": {},
   "outputs": [],
   "source": [
    "from decoder import VAE_Decoder\n",
    "decoder = VAE_Decoder().to(\"cpu\")"
   ]
  }
 ],
 "metadata": {
  "kernelspec": {
   "display_name": "ml",
   "language": "python",
   "name": "python3"
  },
  "language_info": {
   "codemirror_mode": {
    "name": "ipython",
    "version": 3
   },
   "file_extension": ".py",
   "mimetype": "text/x-python",
   "name": "python",
   "nbconvert_exporter": "python",
   "pygments_lexer": "ipython3",
   "version": "3.12.1"
  }
 },
 "nbformat": 4,
 "nbformat_minor": 2
}
